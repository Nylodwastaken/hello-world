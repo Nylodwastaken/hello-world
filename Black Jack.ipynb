{
 "cells": [
  {
   "cell_type": "markdown",
   "id": "73db434f",
   "metadata": {},
   "source": [
    "### Import statements"
   ]
  },
  {
   "cell_type": "code",
   "execution_count": null,
   "id": "de5e2f96",
   "metadata": {},
   "outputs": [],
   "source": [
    "# IMPORTS"
   ]
  },
  {
   "cell_type": "markdown",
   "id": "af8ee62f",
   "metadata": {},
   "source": [
    "### Declare classes"
   ]
  },
  {
   "cell_type": "code",
   "execution_count": 66,
   "id": "3e570012",
   "metadata": {},
   "outputs": [
    {
     "name": "stdout",
     "output_type": "stream",
     "text": [
      "KAKI kaka\n"
     ]
    }
   ],
   "source": [
    "kaki = \"KAKI\"\n",
    "kaka = \"KAKA\"\n",
    "\n",
    "print(kaki, \"kaka\")"
   ]
  },
  {
   "cell_type": "markdown",
   "id": "dc2748e6",
   "metadata": {},
   "source": [
    "### Helper Methods"
   ]
  },
  {
   "cell_type": "code",
   "execution_count": 53,
   "id": "ce8634ca",
   "metadata": {},
   "outputs": [],
   "source": [
    "def my_method(input: str) -> str:\n",
    "    \"\"\"\n",
    "    PLACE DOCSTRING HERE\n",
    "    \"\"\"\n",
    "    return input.upper()"
   ]
  },
  {
   "cell_type": "code",
   "execution_count": 4,
   "id": "addad343",
   "metadata": {},
   "outputs": [],
   "source": [
    "#Create card class\n",
    "# CARD CLASs\n",
    "#SUIT, RANK, VALUE\n",
    "#king queen and jack are all worth 10\n",
    "\n",
    "import random\n",
    "suits = ('Hearts', 'Diamonds', 'Spades', 'Clubs')\n",
    "ranks = ('Two', 'Three', 'Four', 'Five', 'Six', 'Seven', 'Eight', 'Nine', 'Ten', 'Jack', 'Queen', 'King', 'Ace')\n",
    "\n",
    "values = {'Two':2, 'Three':3, 'Four':4, 'Five':5, 'Six':6, 'Seven':7, 'Eight':8, \n",
    "            'Nine':9, 'Ten':10, 'Jack':10, 'Queen':10, 'King':10, 'Ace':1}"
   ]
  },
  {
   "cell_type": "code",
   "execution_count": 5,
   "id": "c4fef832",
   "metadata": {},
   "outputs": [
    {
     "data": {
      "text/plain": [
       "dict_keys(['Two', 'Three', 'Four', 'Five', 'Six', 'Seven', 'Eight', 'Nine', 'Ten', 'Jack', 'Queen', 'King', 'Ace'])"
      ]
     },
     "execution_count": 5,
     "metadata": {},
     "output_type": "execute_result"
    }
   ],
   "source": [
    "values.keys()"
   ]
  },
  {
   "cell_type": "code",
   "execution_count": 6,
   "id": "3766697e",
   "metadata": {},
   "outputs": [],
   "source": [
    "class Card():\n",
    "    \n",
    "    def __init__(self,suit,rank):\n",
    "        self.suit = suit\n",
    "        self.rank = rank\n",
    "        self.value = values[rank]\n",
    "    \n",
    "    def __str__(self):\n",
    "        return self.rank + \" of \" + self.suit"
   ]
  },
  {
   "cell_type": "code",
   "execution_count": 7,
   "id": "6df323b3",
   "metadata": {},
   "outputs": [],
   "source": [
    "test_card = Card(\"Spades\", \"King\")"
   ]
  },
  {
   "cell_type": "code",
   "execution_count": 8,
   "id": "46866888",
   "metadata": {},
   "outputs": [
    {
     "data": {
      "text/plain": [
       "10"
      ]
     },
     "execution_count": 8,
     "metadata": {},
     "output_type": "execute_result"
    }
   ],
   "source": [
    "test_card.value"
   ]
  },
  {
   "cell_type": "code",
   "execution_count": 10,
   "id": "ba89b2aa",
   "metadata": {},
   "outputs": [
    {
     "data": {
      "text/plain": [
       "'King'"
      ]
     },
     "execution_count": 10,
     "metadata": {},
     "output_type": "execute_result"
    }
   ],
   "source": [
    "test_card.rank"
   ]
  },
  {
   "cell_type": "code",
   "execution_count": 13,
   "id": "a8db60b2",
   "metadata": {},
   "outputs": [],
   "source": [
    "#create deck class\n",
    "class Deck():\n",
    "    \n",
    "    def __init__(self):\n",
    "        \n",
    "        self.all_cards = []\n",
    "        \n",
    "        for suit in suits:\n",
    "            for rank in ranks:\n",
    "                #Create the card object\n",
    "                self.all_cards.append(Card(suit,rank))\n",
    "                \n",
    "    def shuffle(self):\n",
    "        #shuffle works internally since the function does not return anything\n",
    "        \n",
    "        random.shuffle(self.all_cards)\n",
    "    \n",
    "    def deal_one(self):\n",
    "        \n",
    "        return self.all_cards.pop()"
   ]
  },
  {
   "cell_type": "code",
   "execution_count": 29,
   "id": "edb09d9a",
   "metadata": {},
   "outputs": [],
   "source": [
    "new_deck = Deck()"
   ]
  },
  {
   "cell_type": "code",
   "execution_count": 30,
   "id": "f80bb6a0",
   "metadata": {},
   "outputs": [],
   "source": [
    "new_deck.shuffle()"
   ]
  },
  {
   "cell_type": "code",
   "execution_count": 31,
   "id": "cb9840fc",
   "metadata": {},
   "outputs": [],
   "source": [
    "test_card2 = new_deck.deal_one()"
   ]
  },
  {
   "cell_type": "code",
   "execution_count": 32,
   "id": "27659c46",
   "metadata": {},
   "outputs": [
    {
     "name": "stdout",
     "output_type": "stream",
     "text": [
      "Nine of Hearts\n"
     ]
    }
   ],
   "source": [
    "print(test_card2)"
   ]
  },
  {
   "cell_type": "code",
   "execution_count": null,
   "id": "516f47fe",
   "metadata": {},
   "outputs": [],
   "source": []
  },
  {
   "cell_type": "code",
   "execution_count": null,
   "id": "c5ed14e5",
   "metadata": {},
   "outputs": [],
   "source": []
  },
  {
   "cell_type": "code",
   "execution_count": 34,
   "id": "7122730c",
   "metadata": {},
   "outputs": [],
   "source": [
    "#Create hand class\n",
    "class Hand():\n",
    "    \n",
    "    def __init__(self, name):\n",
    "        self.name = name\n",
    "        self.all_cards = []\n",
    "        \n",
    "    def sum_cards(self):\n",
    "        self.sum_all_cards = 0\n",
    "    \n",
    "         \n",
    "        for card in self.all_cards:\n",
    "            self.sum_all_cards += card.value\n",
    "            \n",
    "        if any(card.rank == 'Ace' for card in self.all_cards) and self.sum_all_cards <= 11:\n",
    "            self.sum_all_cards += 10\n",
    "        return self.sum_all_cards\n",
    "        \n",
    "    def hit(self, deck):\n",
    "        self.all_cards.append(deck.deal_one())\n",
    "        for i in self.all_cards:\n",
    "            print(i)\n",
    "            \n",
    "    def deal(self, deck):\n",
    "        self.all_cards.append(deck.deal_one())\n",
    "        self.all_cards.append(deck.deal_one())\n",
    "        for i in self.all_cards:\n",
    "            print(i)\n",
    "        \n",
    "    def deal_fd(self, deck):\n",
    "        self.all_cards.append(deck.deal_one())     \n",
    "        for i in self.all_cards:\n",
    "            print(i)\n",
    "        self.all_cards.append(deck.deal_one())\n",
    "        print(\"Face Down\")\n",
    "    \n",
    "    def call(self):\n",
    "        for i in self.all_cards:\n",
    "            print(i)\n",
    "            \n",
    "    def win_check(self):\n",
    "        self.sum_all_cards = 0\n",
    "    \n",
    "         \n",
    "        for card in self.all_cards:\n",
    "            self.sum_all_cards += card.value\n",
    "            \n",
    "        if any(card.rank == 'Ace' for card in self.all_cards) and self.sum_all_cards <= 11:\n",
    "            self.sum_all_cards += 10\n",
    "        return self.sum_all_cards == 21\n",
    "            \n",
    "    def bust_check(self):\n",
    "        self.sum_all_cards = 0\n",
    "    \n",
    "         \n",
    "        for card in self.all_cards:\n",
    "            self.sum_all_cards += card.value\n",
    "            \n",
    "        if any(card.rank == 'Ace' for card in self.all_cards) and self.sum_all_cards <= 11:\n",
    "            self.sum_all_cards += 10\n",
    "        return self.sum_all_cards > 21\n",
    "    \n",
    "    \n",
    "    def stay(self):\n",
    "        pass\n",
    "      "
   ]
  },
  {
   "cell_type": "code",
   "execution_count": 35,
   "id": "fbe99810",
   "metadata": {},
   "outputs": [],
   "source": [
    "player = Hand(\"Isti\")"
   ]
  },
  {
   "cell_type": "code",
   "execution_count": 36,
   "id": "60d64918",
   "metadata": {},
   "outputs": [
    {
     "name": "stdout",
     "output_type": "stream",
     "text": [
      "King of Diamonds\n",
      "Two of Spades\n"
     ]
    }
   ],
   "source": [
    "player.deal(new_deck)"
   ]
  },
  {
   "cell_type": "code",
   "execution_count": 37,
   "id": "9f8015fe",
   "metadata": {},
   "outputs": [
    {
     "name": "stdout",
     "output_type": "stream",
     "text": [
      "King of Diamonds\n",
      "Two of Spades\n",
      "Seven of Diamonds\n",
      "Face Down\n"
     ]
    }
   ],
   "source": [
    "player.deal_fd(new_deck)"
   ]
  },
  {
   "cell_type": "code",
   "execution_count": 38,
   "id": "5ce925a0",
   "metadata": {},
   "outputs": [
    {
     "data": {
      "text/plain": [
       "24"
      ]
     },
     "execution_count": 38,
     "metadata": {},
     "output_type": "execute_result"
    }
   ],
   "source": [
    "player.sum_cards()"
   ]
  },
  {
   "cell_type": "code",
   "execution_count": 39,
   "id": "c332a7ce",
   "metadata": {},
   "outputs": [
    {
     "name": "stdout",
     "output_type": "stream",
     "text": [
      "King of Diamonds\n",
      "Two of Spades\n",
      "Seven of Diamonds\n",
      "Five of Diamonds\n"
     ]
    }
   ],
   "source": [
    "player.call()"
   ]
  },
  {
   "cell_type": "code",
   "execution_count": 40,
   "id": "9a262705",
   "metadata": {},
   "outputs": [],
   "source": [
    "test_card = Card(\"Spades\", \"Ace\")"
   ]
  },
  {
   "cell_type": "code",
   "execution_count": 41,
   "id": "bdc26250",
   "metadata": {},
   "outputs": [
    {
     "name": "stdout",
     "output_type": "stream",
     "text": [
      "King of Diamonds\n",
      "Two of Spades\n",
      "Seven of Diamonds\n",
      "Five of Diamonds\n",
      "Two of Clubs\n"
     ]
    }
   ],
   "source": [
    "player.hit(new_deck)"
   ]
  },
  {
   "cell_type": "code",
   "execution_count": 20,
   "id": "2b199544",
   "metadata": {},
   "outputs": [
    {
     "data": {
      "text/plain": [
       "True"
      ]
     },
     "execution_count": 20,
     "metadata": {},
     "output_type": "execute_result"
    }
   ],
   "source": [
    "player.bust_check()"
   ]
  },
  {
   "cell_type": "code",
   "execution_count": 42,
   "id": "7c454cb8",
   "metadata": {},
   "outputs": [],
   "source": [
    "#create chip class\n",
    "class Chip():\n",
    "    \n",
    "    def __init__(self, chips):\n",
    "        self.chips =int(chips)\n",
    "        \n",
    "    def call(self):\n",
    "        print(f\"You have {self.chips} chips remaining!\")\n",
    "    \n",
    "    def bet(self, amount):\n",
    "        self.chips -= amount\n",
    "        print(f\"You have bet {amount} chips and have {self.chips} chips remaining!\")\n",
    "        \n",
    "    def add(self, amount):\n",
    "        self.chips += amount*2\n",
    "        print(f\"You have won {amount} chips and now have {self.chips} chips remaining!\")"
   ]
  },
  {
   "cell_type": "code",
   "execution_count": 43,
   "id": "78875467",
   "metadata": {},
   "outputs": [],
   "source": [
    "bankroll = Chip(50)"
   ]
  },
  {
   "cell_type": "code",
   "execution_count": 44,
   "id": "175beb76",
   "metadata": {},
   "outputs": [
    {
     "data": {
      "text/plain": [
       "50"
      ]
     },
     "execution_count": 44,
     "metadata": {},
     "output_type": "execute_result"
    }
   ],
   "source": [
    "bankroll.chips"
   ]
  },
  {
   "cell_type": "code",
   "execution_count": 45,
   "id": "58ab01e3",
   "metadata": {},
   "outputs": [
    {
     "name": "stdout",
     "output_type": "stream",
     "text": [
      "You have bet 40 chips and have 10 chips remaining!\n"
     ]
    }
   ],
   "source": [
    "bankroll.bet(40)"
   ]
  },
  {
   "cell_type": "code",
   "execution_count": 25,
   "id": "46d834f0",
   "metadata": {},
   "outputs": [
    {
     "name": "stdout",
     "output_type": "stream",
     "text": [
      "Welcome to the Black Jack table. Are you ready to lose all your money?y\n",
      "You currently have 100 chips. How much would you like to bet on the next game?20\n",
      "You have bet 20 chips and have 80 chips remaining!\n",
      "--------------\n",
      "--------------\n",
      "Dealer's Hand:\n",
      "Four of Clubs\n",
      "Face Down\n",
      "--------------\n",
      "Gambler's Hand:\n",
      "Five of Hearts\n",
      "Eight of Spades\n",
      "--------------\n",
      "--------------\n",
      "Would you like to 'hit' or 'stay'?hit\n",
      "Five of Hearts\n",
      "Eight of Spades\n",
      "Ace of Hearts\n",
      "Would you like to 'hit' or 'stay'?hit\n",
      "Five of Hearts\n",
      "Eight of Spades\n",
      "Ace of Hearts\n",
      "Five of Spades\n",
      "Would you like to 'hit' or 'stay'?stay\n",
      "--------------\n",
      "--------------\n",
      "Dealer's Hand:\n",
      "Four of Clubs\n",
      "Ace of Spades\n",
      "--------------\n",
      "Gambler's Hand:\n",
      "Five of Hearts\n",
      "Eight of Spades\n",
      "Ace of Hearts\n",
      "Five of Spades\n",
      "--------------\n",
      "--------------\n",
      "Dealer Hits!\n",
      "--------------\n",
      "--------------\n",
      "Dealer's Hand:\n",
      "Four of Clubs\n",
      "Ace of Spades\n",
      "Ten of Diamonds\n",
      "--------------\n",
      "Gambler's Hand:\n",
      "Five of Hearts\n",
      "Eight of Spades\n",
      "Ace of Hearts\n",
      "Five of Spades\n",
      "--------------\n",
      "--------------\n",
      "Dealer Hits!\n",
      "--------------\n",
      "--------------\n",
      "Dealer's Hand:\n",
      "Four of Clubs\n",
      "Ace of Spades\n",
      "Ten of Diamonds\n",
      "Jack of Diamonds\n",
      "--------------\n",
      "Gambler's Hand:\n",
      "Five of Hearts\n",
      "Eight of Spades\n",
      "Ace of Hearts\n",
      "Five of Spades\n",
      "--------------\n",
      "--------------\n",
      "Dealer Busts!\n",
      "You have won 20 chips and now have 120 chips remaining!\n",
      "Would you like to cash out or play again? Press 'c' for cashing out or 'p' if you'd like to play again.c\n"
     ]
    }
   ],
   "source": [
    "##The game\n",
    "bankroll = Chip(100)\n",
    "play_again = True\n",
    "while play_again:\n",
    "    \n",
    "    play_on = True \n",
    "    while play_on:\n",
    "        game_on = \"\"\n",
    "        while game_on not in [\"Yes\", \"yes\", \"Y\", \"y\"]:\n",
    "\n",
    "            game_on = input(\"Welcome to the Black Jack table. Are you ready to lose all your money?\")\n",
    "            if game_on in [\"no\", \"No\", \"n\", \"N\"]:\n",
    "                break\n",
    "            else:\n",
    "                pass\n",
    "\n",
    "        #betting part\n",
    "\n",
    "\n",
    "        dummy = True\n",
    "        while dummy:\n",
    "            try:\n",
    "                bet_amount = int(input(f\"You currently have {bankroll.chips} chips. How much would you like to bet on the next game?\"))\n",
    "                if bet_amount > bankroll.chips:\n",
    "                    pass\n",
    "                else:\n",
    "                    dummy = False\n",
    "\n",
    "            except:\n",
    "                print(\"I am sorry that is not a valid bet.\")\n",
    "        bankroll.bet(bet_amount)\n",
    "        #deal cards\n",
    "        deck = Deck()\n",
    "        deck.shuffle()\n",
    "        player = Hand(\"Gambler\")\n",
    "        dealer = Hand(\"Dealer\")\n",
    "\n",
    "        print(\"--------------\")\n",
    "        print(\"--------------\")\n",
    "        print(\"Dealer's Hand:\")\n",
    "        dealer.deal_fd(deck)\n",
    "        print(\"--------------\")\n",
    "        print(\"Gambler's Hand:\")\n",
    "        player.deal(deck)\n",
    "        print(\"--------------\")\n",
    "        print(\"--------------\")\n",
    "\n",
    "\n",
    "        #hit or stay \n",
    "        dummy = True\n",
    "        while dummy:\n",
    "            hit_or_stay = input(\"Would you like to 'hit' or 'stay'?\")\n",
    "            if \"hit\" == hit_or_stay:\n",
    "                player.hit(deck)\n",
    "                if player.bust_check():\n",
    "                    print(\"BUST!\")\n",
    "                    bankroll.call()\n",
    "                    play_on = False\n",
    "                    dummy = False\n",
    "                elif player.win_check():\n",
    "                    print(\"BLACK JACK! Congratulations you win!\")\n",
    "                    bankroll.add(bet_amount)\n",
    "                    play_on = False\n",
    "                    dummy = False\n",
    "                else:\n",
    "                    pass\n",
    "\n",
    "            elif \"stay\" == hit_or_stay:\n",
    "                player.stay()\n",
    "                dummy = False\n",
    "            else:\n",
    "                pass \n",
    "            \n",
    "\n",
    "        while (not player.bust_check()) and (not player.win_check()):\n",
    "            \n",
    "            #dealers turn\n",
    "            print(\"--------------\")\n",
    "            print(\"--------------\")\n",
    "            print(\"Dealer's Hand:\")\n",
    "            dealer.call()\n",
    "            print(\"--------------\")\n",
    "            print(\"Gambler's Hand:\")\n",
    "            player.call()\n",
    "            print(\"--------------\")\n",
    "            print(\"--------------\")\n",
    "\n",
    "            if dealer.sum_cards() > player.sum_cards() and dealer.sum_cards() < 21:\n",
    "                print(\"Dealer has Won!\")\n",
    "                bankroll.call()\n",
    "                play_on = False\n",
    "                break\n",
    "            elif dealer.sum_cards() > 21:\n",
    "                print(\"Dealer Busts!\")\n",
    "                bankroll.add(bet_amount)\n",
    "                play_on = False\n",
    "                break\n",
    "            elif dealer.win_check():\n",
    "                print(\"BLACK JACK! Dealer has Won!\")\n",
    "                bankroll.call()\n",
    "                play_on = False\n",
    "                break\n",
    "            elif dealer.sum_cards() >= 17:\n",
    "                dealer.stay()\n",
    "                if player.sum_cards() > dealer.sum_cards():\n",
    "                    print(\"Player Wins!\")\n",
    "                    bankroll.add(bet_amount)\n",
    "                    play_on = False\n",
    "                else:\n",
    "                    print(\"Dealer Wins!\")\n",
    "                    bankroll.call()\n",
    "                    play_on  = False\n",
    "                play_on = False\n",
    "                break\n",
    "\n",
    "            else:\n",
    "                print(\"Dealer Hits!\")\n",
    "\n",
    "\n",
    "            dealing = True\n",
    "            while dealing:\n",
    "                print(\"--------------\")\n",
    "                print(\"--------------\")\n",
    "                print(\"Dealer's Hand:\")\n",
    "                dealer.hit(deck)\n",
    "                print(\"--------------\")\n",
    "                print(\"Gambler's Hand:\")\n",
    "                player.call()\n",
    "                print(\"--------------\")\n",
    "                print(\"--------------\")\n",
    "\n",
    "                if dealer.sum_cards() > player.sum_cards() and dealer.sum_cards() < 21:\n",
    "                    print(\"Dealer has Won!\")\n",
    "                    bankroll.call()\n",
    "                    play_on = False\n",
    "                    dealing = False\n",
    "                    \n",
    "                elif dealer.sum_cards() > 21:\n",
    "                    print(\"Dealer Busts!\")\n",
    "                    bankroll.add(bet_amount)\n",
    "                    play_on = False\n",
    "                    dealing = False\n",
    "                    \n",
    "                elif dealer.win_check():\n",
    "                    print(\"BLACK JACK! Dealer has Won!\")\n",
    "                    bankroll.call()\n",
    "                    play_on = False\n",
    "                    dealing = False\n",
    "                elif dealer.sum_cards() >= 17:\n",
    "                    dealer.stay()\n",
    "                    if player.sum_cards() > dealer.sum_cards():\n",
    "                        print(\"Player Wins!\")\n",
    "                        bankroll.add(bet_amount)\n",
    "                        play_on = False\n",
    "                    else:\n",
    "                        print(\"Dealer Wins!\")\n",
    "                        bankroll.call()\n",
    "                        play_on  = False\n",
    "                    play_on = False\n",
    "                    break\n",
    "\n",
    "                else:\n",
    "                    print(\"Dealer Hits!\")\n",
    "                    pass\n",
    "            break\n",
    "\n",
    "        if bankroll.chips <= 0:\n",
    "            print(\"It seems that you have run out of chips! Game over:(\")\n",
    "            play_again = False\n",
    "            break\n",
    "        something = True\n",
    "        while something:\n",
    "            replay = input(\"Would you like to cash out or play again? Press 'c' for cashing out or 'p' if you'd like to play again.\")\n",
    "            if replay == \"c\":\n",
    "                play_again = False\n",
    "                something = False\n",
    "\n",
    "            elif replay == \"p\":\n",
    "                something = False\n",
    "                pass\n",
    "\n",
    "            else:\n",
    "                pass\n"
   ]
  },
  {
   "cell_type": "code",
   "execution_count": null,
   "id": "fff29147",
   "metadata": {},
   "outputs": [],
   "source": []
  }
 ],
 "metadata": {
  "kernelspec": {
   "display_name": "Python 3",
   "language": "python",
   "name": "python3"
  },
  "language_info": {
   "codemirror_mode": {
    "name": "ipython",
    "version": 3
   },
   "file_extension": ".py",
   "mimetype": "text/x-python",
   "name": "python",
   "nbconvert_exporter": "python",
   "pygments_lexer": "ipython3",
   "version": "3.8.8"
  }
 },
 "nbformat": 4,
 "nbformat_minor": 5
}
